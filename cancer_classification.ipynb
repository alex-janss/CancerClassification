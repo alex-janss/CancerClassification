{
  "nbformat": 4,
  "nbformat_minor": 0,
  "metadata": {
    "colab": {
      "name": "cancer_classification.ipynb",
      "provenance": [],
      "collapsed_sections": []
    },
    "kernelspec": {
      "name": "python3",
      "display_name": "Python 3"
    },
    "accelerator": "GPU"
  },
  "cells": [
    {
      "cell_type": "markdown",
      "metadata": {
        "id": "If2DRWB3orpr",
        "colab_type": "text"
      },
      "source": [
        "# Cancer Classification using Microarray Data\n",
        "Alex Janss\n",
        "\n",
        "## Introduction\n",
        "The GEO database is home to thousands of microarray datasets. These datasets measure the relative gene expression across thousands of selected genes for a given patient sample. Each value in the output roughly corresponds to the abundance of an RNA molecule of a given type (corresponding to the given gene) for a particular sample, with higher values indicating more RNA molecules. "
      ]
    },
    {
      "cell_type": "markdown",
      "metadata": {
        "id": "Ebh2YKZqrx-8",
        "colab_type": "text"
      },
      "source": [
        "Microarrays are an extremely important source of data, as they are very cheap and easy to run and yeild lots of information about the state of the cells from the sample. The gene expression data obtained form the cells yeilds information about the cells' activity and can be used to distinguish types of cells (eg. brain vs liver) and states of cells (eg. healthy vs diseased).\n",
        "\n",
        "The dataset used in this experiment has 174 different samples, each from one of nine different types of cancer (Breast, Central Nervous System, Colon, Leukemia, Melanoma, Non-Small Cell Lung, Ovarian, Prostate, and Renal). My goal is to create a model that will be able to sucessfuly classify a sample into one of the 9 cancer type by the microarray expression data. I will be using **Naive Bayes, Random Forest, and Gradient Boosting** to classify the data.\n",
        "\n",
        "Importing the necessary libraries and data:"
      ]
    },
    {
      "cell_type": "code",
      "metadata": {
        "id": "j6iSN2fzO2F0",
        "colab_type": "code",
        "cellView": "both",
        "outputId": "ba080aa5-3795-40e1-ca9c-11ae15490a91",
        "colab": {
          "base_uri": "https://localhost:8080/",
          "height": 63
        }
      },
      "source": [
        "import numpy as np\n",
        "import random\n",
        "import pickle\n",
        "import scipy.stats as stats\n",
        "import matplotlib.pyplot as plt\n",
        "import pandas as pd\n",
        "import seaborn as sns\n",
        "import tensorflow as tf\n",
        "from sklearn.model_selection import StratifiedKFold\n",
        "from sklearn.model_selection import train_test_split\n",
        "from sklearn.model_selection import RandomizedSearchCV\n",
        "from sklearn.naive_bayes import GaussianNB\n",
        "from sklearn import metrics\n",
        "from sklearn.ensemble import RandomForestClassifier\n",
        "from sklearn.ensemble import GradientBoostingClassifier\n",
        "\n",
        "from xgboost import XGBClassifier\n",
        "np.set_printoptions(precision=4)\n",
        "\n",
        "path = ''"
      ],
      "execution_count": 0,
      "outputs": [
        {
          "output_type": "display_data",
          "data": {
            "text/html": [
              "<p style=\"color: red;\">\n",
              "The default version of TensorFlow in Colab will soon switch to TensorFlow 2.x.<br>\n",
              "We recommend you <a href=\"https://www.tensorflow.org/guide/migrate\" target=\"_blank\">upgrade</a> now \n",
              "or ensure your notebook will continue to use TensorFlow 1.x via the <code>%tensorflow_version 1.x</code> magic:\n",
              "<a href=\"https://colab.research.google.com/notebooks/tensorflow_version.ipynb\" target=\"_blank\">more info</a>.</p>\n"
            ],
            "text/plain": [
              "<IPython.core.display.HTML object>"
            ]
          },
          "metadata": {
            "tags": []
          }
        }
      ]
    },
    {
      "cell_type": "code",
      "metadata": {
        "id": "OnTrIHqSSYFu",
        "colab_type": "code",
        "outputId": "df6f04e2-4f4d-4aba-a3c0-672d3d72f7e4",
        "colab": {
          "base_uri": "https://localhost:8080/",
          "height": 122
        }
      },
      "source": [
        "from google.colab import drive\n",
        "drive.mount('/content/drive')\n",
        "path = '/content/drive/My Drive/Colab Notebooks/'"
      ],
      "execution_count": 0,
      "outputs": [
        {
          "output_type": "stream",
          "text": [
            "Go to this URL in a browser: https://accounts.google.com/o/oauth2/auth?client_id=947318989803-6bn6qk8qdgf4n4g3pfee6491hc0brc4i.apps.googleusercontent.com&redirect_uri=urn%3aietf%3awg%3aoauth%3a2.0%3aoob&response_type=code&scope=email%20https%3a%2f%2fwww.googleapis.com%2fauth%2fdocs.test%20https%3a%2f%2fwww.googleapis.com%2fauth%2fdrive%20https%3a%2f%2fwww.googleapis.com%2fauth%2fdrive.photos.readonly%20https%3a%2f%2fwww.googleapis.com%2fauth%2fpeopleapi.readonly\n",
            "\n",
            "Enter your authorization code:\n",
            "··········\n",
            "Mounted at /content/drive\n"
          ],
          "name": "stdout"
        }
      ]
    },
    {
      "cell_type": "markdown",
      "metadata": {
        "id": "28TEsGUxWCD-",
        "colab_type": "text"
      },
      "source": [
        "## Data Description\n",
        "Lets load the data and take a look at the first few rows:"
      ]
    },
    {
      "cell_type": "code",
      "metadata": {
        "id": "_F5WE8W4PMvI",
        "colab_type": "code",
        "outputId": "4cb11563-c4ab-461f-aa74-bf966e656bf7",
        "colab": {
          "base_uri": "https://localhost:8080/",
          "height": 153
        }
      },
      "source": [
        "# load data\n",
        "try:\n",
        "    labels = pickle.load(open(path + \"labels.pickle\", \"rb\"))\n",
        "    data = pickle.load(open(path + \"data.pickle\", \"rb\"))\n",
        "except (OSError, IOError) as e:\n",
        "    df = pd.read_csv(path + 'GDS4296_table.csv', low_memory=False, index_col=0)\n",
        "    df = df.T\n",
        "    df.drop(columns='#NAME?', inplace=True)  # drop columns w/ missing names\n",
        "    df.sort_values(by='Cell_type')   # sort by label\n",
        "    data = df.iloc[:,1:]  # separate data and labels\n",
        "    labels = df.iloc[:,0]\n",
        "    data=(data-data.mean())/data.std()  # rescale (normalize) the variables\n",
        "    pickle.dump(data, open(path+\"data.pickle\", \"wb\"))\n",
        "    pickle.dump(labels, open(path+\"labels.pickle\", \"wb\"))\n",
        "\n",
        "print(data.head())"
      ],
      "execution_count": 0,
      "outputs": [
        {
          "output_type": "stream",
          "text": [
            "            MIR4640      RFC2     HSPA6  ...     STAT1     STAT1     STAT1\n",
            "GSM803615 -1.195915  1.013012  2.089454  ... -0.651119 -0.545434 -0.698218\n",
            "GSM803674 -2.553449  1.079588  2.082869  ... -0.607116 -0.653362 -0.797997\n",
            "GSM803733 -1.885320  0.825075 -0.575355  ... -1.219383 -1.341147 -1.380196\n",
            "GSM803616 -2.351636  0.685868 -0.109988  ... -0.738815 -0.520803 -0.533830\n",
            "GSM803675 -1.999497  0.380964  0.005226  ... -0.578612 -0.624779 -0.836517\n",
            "\n",
            "[5 rows x 54623 columns]\n"
          ],
          "name": "stdout"
        }
      ]
    },
    {
      "cell_type": "markdown",
      "metadata": {
        "id": "qcdWOeT6WdH1",
        "colab_type": "text"
      },
      "source": [
        "Each row (\"GSM...\") represents a single patient sample that we will try to classify into one of the 9 types of cancers. There are 174 samples.\n",
        "\n",
        "The `labels` variable designates which type of cancer each sample came from.\n",
        "\n",
        "The remaining columns labeled by gene name represent the level of a particular RNA molecule within the given sample*. There are 54,676 genes. Note that I have rescaled (normalized) the genes accross the 174 samples.\n",
        "\n",
        "\n",
        "To state the obvious, this is an extremely high dimensionality dataset, with 54,676 predictors and only 174 data points. This will be a major challenge in fitting models to this data.\n",
        "\n",
        "Lets take a look at the distributions of a few of the variables:\n",
        "\n",
        "\n",
        "*Note: The value represents the relative expression of that RNA and cannot be used to determine the absolue quantity of an RNA molecule, and cannot be compared accross columns. Thus not much information is lost in rescaling.*"
      ]
    },
    {
      "cell_type": "code",
      "metadata": {
        "colab_type": "code",
        "outputId": "8151c7e6-df6c-4d36-8093-74a3dbf5679a",
        "id": "mhjq74-4XaeY",
        "cellView": "both",
        "colab": {
          "base_uri": "https://localhost:8080/",
          "height": 302
        }
      },
      "source": [
        "# histograms\n",
        "sns.set()\n",
        "gene1, gene2, gene3 = 100, 200, 300\n",
        "fig, axes = plt.subplots(ncols=3, sharex=True, sharey=True, figsize=(8,4))\n",
        "data.iloc[:,gene1].plot.hist(ax=axes[0])\n",
        "data.iloc[:,gene2].plot.hist(ax=axes[1])\n",
        "data.iloc[:,gene3].plot.hist(ax=axes[2])\n",
        "axes[0].set_xlabel('Level of gene ' + df.iloc[:,gene1].name)\n",
        "axes[1].set_xlabel('Level of gene ' + df.iloc[:,gene2].name)\n",
        "axes[2].set_xlabel('Level of gene ' + df.iloc[:,gene3].name)\n",
        "axes[0].set_ylabel('# of samples')"
      ],
      "execution_count": 0,
      "outputs": [
        {
          "output_type": "execute_result",
          "data": {
            "text/plain": [
              "Text(0, 0.5, '# of samples')"
            ]
          },
          "metadata": {
            "tags": []
          },
          "execution_count": 13
        },
        {
          "output_type": "display_data",
          "data": {
            "image/png": "[encoded data removed]",
            "text/plain": [
              "<Figure size 576x288 with 3 Axes>"
            ]
          },
          "metadata": {
            "tags": []
          }
        }
      ]
    },
    {
      "cell_type": "markdown",
      "metadata": {
        "id": "DnBBgZP-i94W",
        "colab_type": "text"
      },
      "source": [
        "The distribution of the samples appears to be (somewhat) normal for these few genes. Now that we have some idea of what the data looks like, we will begin classification."
      ]
    },
    {
      "cell_type": "markdown",
      "metadata": {
        "id": "ME1dLQzOwyE5",
        "colab_type": "text"
      },
      "source": [
        "## Gaussian Naive Bayes\n",
        "Naive Bayes is arguably one of the simplest classification techniques in machine learning. There are no hyperparameters to tune, one simply needs to run the model. Here I use the Gaussian version of the algorithm, as the predictors are continuous not categorical. \n",
        "\n",
        "Let's test this method via 5-fold cross validation. I use the stratified version of train-test split, as not all the classes are equally represented."
      ]
    },
    {
      "cell_type": "code",
      "metadata": {
        "id": "uwRsf6hSF2My",
        "colab_type": "code",
        "outputId": "dce2b9a1-a651-414c-c0ee-af50725dd02c",
        "colab": {
          "base_uri": "https://localhost:8080/",
          "height": 34
        }
      },
      "source": [
        "# GNB, 5-fold cross validation.\n",
        "random.seed(711)\n",
        "gnb_mod = GaussianNB()   # Create a Gaussian Classifier\n",
        "skf = StratifiedKFold(n_splits=5, shuffle=True) # 5-fold\n",
        "error = []\n",
        "for train_index, test_index in skf.split(data, labels):\n",
        "  X_train, X_test = data.iloc[train_index], data.iloc[test_index]  # train-test split\n",
        "  y_train, y_test = labels.iloc[train_index], labels.iloc[test_index]\n",
        "  gnb_mod.fit(X_train, y_train)    # fit on train\n",
        "  y_pred = gnb_mod.predict(X_test)  # predict on test\n",
        "  error.append(metrics.accuracy_score(y_test, y_pred))   # model accuracy\n",
        "print(sum(error)/len(error))  # average accuracy\n"
      ],
      "execution_count": 0,
      "outputs": [
        {
          "output_type": "stream",
          "text": [
            "0.9680357142857143\n"
          ],
          "name": "stdout"
        }
      ]
    },
    {
      "cell_type": "markdown",
      "metadata": {
        "id": "60MBwqo_edbV",
        "colab_type": "text"
      },
      "source": [
        "96.8% prediction accuracy! This is impressive for a model that took no work to tune and a difficult data set."
      ]
    },
    {
      "cell_type": "markdown",
      "metadata": {
        "id": "9b6-sRysWNOx",
        "colab_type": "text"
      },
      "source": [
        "## Random Forest\n",
        "Random forest is an extremely popular out-of-the-box ML tool that works very well with very little tuning on a variety of datasets. It works by averaging a large number of high-variance decision trees. Here we will test RF with 500, 1000, and 2000 trees using 5-fold CV. "
      ]
    },
    {
      "cell_type": "code",
      "metadata": {
        "id": "BZO-2wfMWhPJ",
        "colab_type": "code",
        "outputId": "474a3c42-13e9-4afd-8c8e-0a44992163cf",
        "colab": {
          "base_uri": "https://localhost:8080/",
          "height": 68
        }
      },
      "source": [
        "# RF, 5-fold CV\n",
        "random.seed(731)\n",
        "num_trees = [500,1000,2000]  # hyperparameters to test\n",
        "skf = StratifiedKFold(n_splits=5, shuffle=True) # 5-fold\n",
        "error = []\n",
        "for param in num_trees:\n",
        "  rf_mod = RandomForestClassifier(n_estimators=param)   # create RF model\n",
        "  for train_index, test_index in skf.split(data, labels):\n",
        "    X_train, X_test = data.iloc[train_index], data.iloc[test_index]  # train-test split\n",
        "    y_train, y_test = labels.iloc[train_index], labels.iloc[test_index]\n",
        "    rf_mod.fit(X_train, y_train)    # fit on train\n",
        "    y_pred = rf_mod.predict(X_test)  # predict on test\n",
        "    error.append(metrics.accuracy_score(y_test, y_pred))   # model accuracy\n",
        "  print(\"Accuracy:\",sum(error)/len(error), \"with\", param, \"trees\")  # average accuracy"
      ],
      "execution_count": 0,
      "outputs": [
        {
          "output_type": "stream",
          "text": [
            "Accuracy: 0.9766071428571429 with 500 trees\n",
            "Accuracy: 0.9825892857142857 with 1000 trees\n",
            "Accuracy: 0.9883928571428572 with 2000 trees\n"
          ],
          "name": "stdout"
        }
      ]
    },
    {
      "cell_type": "markdown",
      "metadata": {
        "id": "LpA1Q43siBo-",
        "colab_type": "text"
      },
      "source": [
        "Our best model performed with 98.8% accuracy. This is an incredible performance on a model that also took very little tuning. RF models are often used a baseline for testing the performance of more complex models. 98.8% is a very high bar to beat! I will now attempt to beat this with other models, but if not, this accuracy is stellar performance given the data."
      ]
    },
    {
      "cell_type": "markdown",
      "metadata": {
        "id": "WWoIwqEJVDNx",
        "colab_type": "text"
      },
      "source": [
        "## Boosting\n",
        "Tree boosting is a powerful method that combines many weak learners (small trees) succesively to create an aggregate model. Each model takes much longer to run and tune than the methods used above, as the model building process is computationally expensive and there are more hyperparameters. As an illustration I run a single boosting model with 5-fold CV using sci-kit learn's implementation."
      ]
    },
    {
      "cell_type": "code",
      "metadata": {
        "id": "S9T2iQCNVQAt",
        "colab_type": "code",
        "outputId": "7cd52fa8-e294-40fe-9d3a-9381a418251a",
        "colab": {
          "base_uri": "https://localhost:8080/",
          "height": 34
        }
      },
      "source": [
        "# Boosting, 5-fold CV\n",
        "random.seed(1699)\n",
        "boost_mod = GradientBoostingClassifier(n_estimators=100,learning_rate=.1,max_depth=2)   # create boosting model\n",
        "skf = StratifiedKFold(n_splits=5, shuffle=True) # 5-fold\n",
        "error = []\n",
        "for train_index, test_index in skf.split(data, labels):\n",
        "  X_train, X_test = data.iloc[train_index], data.iloc[test_index]  # train-test split\n",
        "  y_train, y_test = labels.iloc[train_index], labels.iloc[test_index]\n",
        "  boost_mod.fit(X_train, y_train)    # fit on train\n",
        "  y_pred = boost_mod.predict(X_test)  # predict on test\n",
        "  error.append(metrics.accuracy_score(y_test, y_pred))   # model accuracy\n",
        "print(sum(error)/len(error))  # average accuracy"
      ],
      "execution_count": 0,
      "outputs": [
        {
          "output_type": "stream",
          "text": [
            "0.8578571428571429\n"
          ],
          "name": "stdout"
        }
      ]
    },
    {
      "cell_type": "markdown",
      "metadata": {
        "id": "YqaBXsKXlACe",
        "colab_type": "text"
      },
      "source": [
        "As is evident, this model needs much more tuning in order to be able to perform well. I will now perform a grid search using a single train-test split."
      ]
    },
    {
      "cell_type": "code",
      "metadata": {
        "id": "ni5m5hep0hxn",
        "colab_type": "code",
        "outputId": "d90ba8ea-dc59-492c-efa6-49ae7d6e94ce",
        "colab": {
          "base_uri": "https://localhost:8080/",
          "height": 360
        }
      },
      "source": [
        "# Boosting, Grid search\n",
        "random.seed(711)\n",
        "n_trees = np.array([50,100,500])  \n",
        "rate = np.array([.001, .01, .1])\n",
        "depth = np.array([2,4])\n",
        "params = np.array(np.meshgrid(n_trees, rate, depth)).reshape(3,-1).T  # grid search parameters\n",
        "\n",
        "X_train, X_test, y_train, y_test = train_test_split(data, labels, stratify=labels, test_size=0.2)  # single train-test split\n",
        "error = []\n",
        "\n",
        "# create boosting model for each combination of hyperparameters\n",
        "for p in params:\n",
        "  boost_mod = GradientBoostingClassifier(n_estimators=int(p[0]),learning_rate=p[1],max_depth=int(p[2]))\n",
        "  boost_mod.fit(X_train, y_train)\n",
        "  y_pred = boost_mod.predict(X_test)  # predict on test\n",
        "  error.append(metrics.accuracy_score(y_test, y_pred))   # model accuracy\n",
        "  print(p, error[-1])\n",
        "print(error)"
      ],
      "execution_count": 0,
      "outputs": [
        {
          "output_type": "stream",
          "text": [
            "[5.e+01 1.e-03 2.e+00] 0.6857142857142857\n",
            "[5.e+01 1.e-03 4.e+00] 0.6\n",
            "[1.e+02 1.e-03 2.e+00] 0.9428571428571428\n",
            "[1.e+02 1.e-03 4.e+00] 0.9428571428571428\n",
            "[5.e+02 1.e-03 2.e+00] 0.9714285714285714\n",
            "[5.e+02 1.e-03 4.e+00] 0.9714285714285714\n",
            "[5.e+01 1.e-02 2.e+00] 0.9714285714285714\n",
            "[5.e+01 1.e-02 4.e+00] 0.9714285714285714\n",
            "[1.e+02 1.e-02 2.e+00] 0.9714285714285714\n",
            "[1.e+02 1.e-02 4.e+00] 0.9714285714285714\n",
            "[5.e+02 1.e-02 2.e+00] 0.9714285714285714\n",
            "[5.e+02 1.e-02 4.e+00] 0.9714285714285714\n",
            "[50.   0.1  2. ] 0.9714285714285714\n",
            "[50.   0.1  4. ] 0.9714285714285714\n",
            "[100.    0.1   2. ] 0.9714285714285714\n",
            "[100.    0.1   4. ] 0.9714285714285714\n",
            "[5.e+02 1.e-01 2.e+00] 0.9714285714285714\n",
            "[5.e+02 1.e-01 4.e+00] 0.9714285714285714\n",
            "[0.6857142857142857, 0.6, 0.9428571428571428, 0.9428571428571428, 0.9714285714285714, 0.9714285714285714, 0.9714285714285714, 0.9714285714285714, 0.9714285714285714, 0.9714285714285714, 0.9714285714285714, 0.9714285714285714, 0.9714285714285714, 0.9714285714285714, 0.9714285714285714, 0.9714285714285714, 0.9714285714285714, 0.9714285714285714]\n"
          ],
          "name": "stdout"
        }
      ]
    },
    {
      "cell_type": "markdown",
      "metadata": {
        "id": "1keJO2vPleL1",
        "colab_type": "text"
      },
      "source": [
        "This grid search ended up being unhelpful. Because of the single train-test split, most of the parameter combinations yeilded the same accuracy scores. Unfortunately, we will need to use 5-fold CV to more precicely evaluate the hyperparameters."
      ]
    },
    {
      "cell_type": "code",
      "metadata": {
        "id": "ey_6JXw4gfxD",
        "colab_type": "code",
        "outputId": "91f81e78-b73f-4c30-8d3c-901b3a3d656f",
        "colab": {
          "base_uri": "https://localhost:8080/",
          "height": 460
        }
      },
      "source": [
        "# Boosting, 5-fold CV, Grid search\n",
        "random.seed(711)\n",
        "n_trees = np.array([50,100,500])  \n",
        "rate = np.array([.001, .01, .1])\n",
        "depth = np.array([2,4])\n",
        "params = np.array(np.meshgrid(n_trees, rate, depth)).reshape(3,-1).T  # grid search params\n",
        "\n",
        "# 5-fold CV\n",
        "skf = StratifiedKFold(n_splits=5, shuffle=True) # 5-fold\n",
        "for p in params:\n",
        "  boost_mod = GradientBoostingClassifier(n_estimators=int(p[0]), learning_rate=p[1], max_depth=int(p[2]))  # create boosting model\n",
        "  error = []\n",
        "  for train_index, test_index in skf.split(data, labels):\n",
        "    X_train, X_test = data.iloc[train_index], data.iloc[test_index]  # train-test split\n",
        "    y_train, y_test = labels.iloc[train_index], labels.iloc[test_index]\n",
        "    boost_mod.fit(X_train, y_train)    # fit on train\n",
        "    y_pred = boost_mod.predict(X_test)  # predict on test\n",
        "    error.append(metrics.accuracy_score(y_test, y_pred))   # model accuracy\n",
        "  print(sum(error)/len(error), p)  # average accuracy"
      ],
      "execution_count": 0,
      "outputs": [
        {
          "output_type": "stream",
          "text": [
            "0.7244642857142857 [5.e+01 1.e-03 2.e+00]\n",
            "0.7485714285714286 [5.e+01 1.e-03 4.e+00]\n",
            "0.8132142857142857 [1.e+02 1.e-03 2.e+00]\n",
            "0.8324999999999999 [1.e+02 1.e-03 4.e+00]\n",
            "0.9244642857142857 [5.e+02 1.e-03 2.e+00]\n"
          ],
          "name": "stdout"
        },
        {
          "output_type": "error",
          "ename": "KeyboardInterrupt",
          "evalue": "ignored",
          "traceback": [
            "\u001b[0;31m---------------------------------------------------------------------------\u001b[0m",
            "\u001b[0;31mKeyboardInterrupt\u001b[0m                         Traceback (most recent call last)",
            "\u001b[0;32m<ipython-input-4-90edd4611e14>\u001b[0m in \u001b[0;36m<module>\u001b[0;34m()\u001b[0m\n\u001b[1;32m     13\u001b[0m     \u001b[0mX_train\u001b[0m\u001b[0;34m,\u001b[0m \u001b[0mX_test\u001b[0m \u001b[0;34m=\u001b[0m \u001b[0mdata\u001b[0m\u001b[0;34m.\u001b[0m\u001b[0miloc\u001b[0m\u001b[0;34m[\u001b[0m\u001b[0mtrain_index\u001b[0m\u001b[0;34m]\u001b[0m\u001b[0;34m,\u001b[0m \u001b[0mdata\u001b[0m\u001b[0;34m.\u001b[0m\u001b[0miloc\u001b[0m\u001b[0;34m[\u001b[0m\u001b[0mtest_index\u001b[0m\u001b[0;34m]\u001b[0m  \u001b[0;31m# train-test split\u001b[0m\u001b[0;34m\u001b[0m\u001b[0;34m\u001b[0m\u001b[0m\n\u001b[1;32m     14\u001b[0m     \u001b[0my_train\u001b[0m\u001b[0;34m,\u001b[0m \u001b[0my_test\u001b[0m \u001b[0;34m=\u001b[0m \u001b[0mlabels\u001b[0m\u001b[0;34m.\u001b[0m\u001b[0miloc\u001b[0m\u001b[0;34m[\u001b[0m\u001b[0mtrain_index\u001b[0m\u001b[0;34m]\u001b[0m\u001b[0;34m,\u001b[0m \u001b[0mlabels\u001b[0m\u001b[0;34m.\u001b[0m\u001b[0miloc\u001b[0m\u001b[0;34m[\u001b[0m\u001b[0mtest_index\u001b[0m\u001b[0;34m]\u001b[0m\u001b[0;34m\u001b[0m\u001b[0;34m\u001b[0m\u001b[0m\n\u001b[0;32m---> 15\u001b[0;31m     \u001b[0mboost_mod\u001b[0m\u001b[0;34m.\u001b[0m\u001b[0mfit\u001b[0m\u001b[0;34m(\u001b[0m\u001b[0mX_train\u001b[0m\u001b[0;34m,\u001b[0m \u001b[0my_train\u001b[0m\u001b[0;34m)\u001b[0m    \u001b[0;31m# fit on train\u001b[0m\u001b[0;34m\u001b[0m\u001b[0;34m\u001b[0m\u001b[0m\n\u001b[0m\u001b[1;32m     16\u001b[0m     \u001b[0my_pred\u001b[0m \u001b[0;34m=\u001b[0m \u001b[0mboost_mod\u001b[0m\u001b[0;34m.\u001b[0m\u001b[0mpredict\u001b[0m\u001b[0;34m(\u001b[0m\u001b[0mX_test\u001b[0m\u001b[0;34m)\u001b[0m  \u001b[0;31m# predict on test\u001b[0m\u001b[0;34m\u001b[0m\u001b[0;34m\u001b[0m\u001b[0m\n\u001b[1;32m     17\u001b[0m     \u001b[0merror\u001b[0m\u001b[0;34m.\u001b[0m\u001b[0mappend\u001b[0m\u001b[0;34m(\u001b[0m\u001b[0mmetrics\u001b[0m\u001b[0;34m.\u001b[0m\u001b[0maccuracy_score\u001b[0m\u001b[0;34m(\u001b[0m\u001b[0my_test\u001b[0m\u001b[0;34m,\u001b[0m \u001b[0my_pred\u001b[0m\u001b[0;34m)\u001b[0m\u001b[0;34m)\u001b[0m   \u001b[0;31m# model accuracy\u001b[0m\u001b[0;34m\u001b[0m\u001b[0;34m\u001b[0m\u001b[0m\n",
            "\u001b[0;32m/usr/local/lib/python3.6/dist-packages/sklearn/ensemble/gradient_boosting.py\u001b[0m in \u001b[0;36mfit\u001b[0;34m(self, X, y, sample_weight, monitor)\u001b[0m\n\u001b[1;32m   1544\u001b[0m         n_stages = self._fit_stages(\n\u001b[1;32m   1545\u001b[0m             \u001b[0mX\u001b[0m\u001b[0;34m,\u001b[0m \u001b[0my\u001b[0m\u001b[0;34m,\u001b[0m \u001b[0mraw_predictions\u001b[0m\u001b[0;34m,\u001b[0m \u001b[0msample_weight\u001b[0m\u001b[0;34m,\u001b[0m \u001b[0mself\u001b[0m\u001b[0;34m.\u001b[0m\u001b[0m_rng\u001b[0m\u001b[0;34m,\u001b[0m \u001b[0mX_val\u001b[0m\u001b[0;34m,\u001b[0m \u001b[0my_val\u001b[0m\u001b[0;34m,\u001b[0m\u001b[0;34m\u001b[0m\u001b[0;34m\u001b[0m\u001b[0m\n\u001b[0;32m-> 1546\u001b[0;31m             sample_weight_val, begin_at_stage, monitor, X_idx_sorted)\n\u001b[0m\u001b[1;32m   1547\u001b[0m \u001b[0;34m\u001b[0m\u001b[0m\n\u001b[1;32m   1548\u001b[0m         \u001b[0;31m# change shape of arrays after fit (early-stopping or additional ests)\u001b[0m\u001b[0;34m\u001b[0m\u001b[0;34m\u001b[0m\u001b[0;34m\u001b[0m\u001b[0m\n",
            "\u001b[0;32m/usr/local/lib/python3.6/dist-packages/sklearn/ensemble/gradient_boosting.py\u001b[0m in \u001b[0;36m_fit_stages\u001b[0;34m(self, X, y, raw_predictions, sample_weight, random_state, X_val, y_val, sample_weight_val, begin_at_stage, monitor, X_idx_sorted)\u001b[0m\n\u001b[1;32m   1608\u001b[0m             raw_predictions = self._fit_stage(\n\u001b[1;32m   1609\u001b[0m                 \u001b[0mi\u001b[0m\u001b[0;34m,\u001b[0m \u001b[0mX\u001b[0m\u001b[0;34m,\u001b[0m \u001b[0my\u001b[0m\u001b[0;34m,\u001b[0m \u001b[0mraw_predictions\u001b[0m\u001b[0;34m,\u001b[0m \u001b[0msample_weight\u001b[0m\u001b[0;34m,\u001b[0m \u001b[0msample_mask\u001b[0m\u001b[0;34m,\u001b[0m\u001b[0;34m\u001b[0m\u001b[0;34m\u001b[0m\u001b[0m\n\u001b[0;32m-> 1610\u001b[0;31m                 random_state, X_idx_sorted, X_csc, X_csr)\n\u001b[0m\u001b[1;32m   1611\u001b[0m \u001b[0;34m\u001b[0m\u001b[0m\n\u001b[1;32m   1612\u001b[0m             \u001b[0;31m# track deviance (= loss)\u001b[0m\u001b[0;34m\u001b[0m\u001b[0;34m\u001b[0m\u001b[0;34m\u001b[0m\u001b[0m\n",
            "\u001b[0;32m/usr/local/lib/python3.6/dist-packages/sklearn/ensemble/gradient_boosting.py\u001b[0m in \u001b[0;36m_fit_stage\u001b[0;34m(self, i, X, y, raw_predictions, sample_weight, sample_mask, random_state, X_idx_sorted, X_csc, X_csr)\u001b[0m\n\u001b[1;32m   1242\u001b[0m             \u001b[0mX\u001b[0m \u001b[0;34m=\u001b[0m \u001b[0mX_csr\u001b[0m \u001b[0;32mif\u001b[0m \u001b[0mX_csr\u001b[0m \u001b[0;32mis\u001b[0m \u001b[0;32mnot\u001b[0m \u001b[0;32mNone\u001b[0m \u001b[0;32melse\u001b[0m \u001b[0mX\u001b[0m\u001b[0;34m\u001b[0m\u001b[0;34m\u001b[0m\u001b[0m\n\u001b[1;32m   1243\u001b[0m             tree.fit(X, residual, sample_weight=sample_weight,\n\u001b[0;32m-> 1244\u001b[0;31m                      check_input=False, X_idx_sorted=X_idx_sorted)\n\u001b[0m\u001b[1;32m   1245\u001b[0m \u001b[0;34m\u001b[0m\u001b[0m\n\u001b[1;32m   1246\u001b[0m             \u001b[0;31m# update tree leaves\u001b[0m\u001b[0;34m\u001b[0m\u001b[0;34m\u001b[0m\u001b[0;34m\u001b[0m\u001b[0m\n",
            "\u001b[0;32m/usr/local/lib/python3.6/dist-packages/sklearn/tree/tree.py\u001b[0m in \u001b[0;36mfit\u001b[0;34m(self, X, y, sample_weight, check_input, X_idx_sorted)\u001b[0m\n\u001b[1;32m   1155\u001b[0m             \u001b[0msample_weight\u001b[0m\u001b[0;34m=\u001b[0m\u001b[0msample_weight\u001b[0m\u001b[0;34m,\u001b[0m\u001b[0;34m\u001b[0m\u001b[0;34m\u001b[0m\u001b[0m\n\u001b[1;32m   1156\u001b[0m             \u001b[0mcheck_input\u001b[0m\u001b[0;34m=\u001b[0m\u001b[0mcheck_input\u001b[0m\u001b[0;34m,\u001b[0m\u001b[0;34m\u001b[0m\u001b[0;34m\u001b[0m\u001b[0m\n\u001b[0;32m-> 1157\u001b[0;31m             X_idx_sorted=X_idx_sorted)\n\u001b[0m\u001b[1;32m   1158\u001b[0m         \u001b[0;32mreturn\u001b[0m \u001b[0mself\u001b[0m\u001b[0;34m\u001b[0m\u001b[0;34m\u001b[0m\u001b[0m\n\u001b[1;32m   1159\u001b[0m \u001b[0;34m\u001b[0m\u001b[0m\n",
            "\u001b[0;32m/usr/local/lib/python3.6/dist-packages/sklearn/tree/tree.py\u001b[0m in \u001b[0;36mfit\u001b[0;34m(self, X, y, sample_weight, check_input, X_idx_sorted)\u001b[0m\n\u001b[1;32m    378\u001b[0m                                            min_impurity_split)\n\u001b[1;32m    379\u001b[0m \u001b[0;34m\u001b[0m\u001b[0m\n\u001b[0;32m--> 380\u001b[0;31m         \u001b[0mbuilder\u001b[0m\u001b[0;34m.\u001b[0m\u001b[0mbuild\u001b[0m\u001b[0;34m(\u001b[0m\u001b[0mself\u001b[0m\u001b[0;34m.\u001b[0m\u001b[0mtree_\u001b[0m\u001b[0;34m,\u001b[0m \u001b[0mX\u001b[0m\u001b[0;34m,\u001b[0m \u001b[0my\u001b[0m\u001b[0;34m,\u001b[0m \u001b[0msample_weight\u001b[0m\u001b[0;34m,\u001b[0m \u001b[0mX_idx_sorted\u001b[0m\u001b[0;34m)\u001b[0m\u001b[0;34m\u001b[0m\u001b[0;34m\u001b[0m\u001b[0m\n\u001b[0m\u001b[1;32m    381\u001b[0m \u001b[0;34m\u001b[0m\u001b[0m\n\u001b[1;32m    382\u001b[0m         \u001b[0;32mif\u001b[0m \u001b[0mself\u001b[0m\u001b[0;34m.\u001b[0m\u001b[0mn_outputs_\u001b[0m \u001b[0;34m==\u001b[0m \u001b[0;36m1\u001b[0m\u001b[0;34m:\u001b[0m\u001b[0;34m\u001b[0m\u001b[0;34m\u001b[0m\u001b[0m\n",
            "\u001b[0;31mKeyboardInterrupt\u001b[0m: "
          ]
        }
      ]
    },
    {
      "cell_type": "markdown",
      "metadata": {
        "id": "OvtYPV6umd_M",
        "colab_type": "text"
      },
      "source": [
        "Here the run has been manually terminated after just 5 sets of hyperparameters have been tested. Even this took over 4 hours to run on my machine. This problem is quickly becoming intractable; Even with this very course grid, fitting 18 x 5 = 90 boosting models on 50,000 variables would take too long."
      ]
    },
    {
      "cell_type": "markdown",
      "metadata": {
        "id": "NkVv7DEcOIDv",
        "colab_type": "text"
      },
      "source": [
        "## Variable Selection\n",
        "The time being taken is due to the 50,000+ variables that the model is trying to evaluate. In order to reduce the dimensionality and make this problem more tractable, we need to remove some of the variables.\n",
        "\n",
        "The sklearn random forest implementation comes with a `feature_importances` attribute. It is determined by assessing the mean decrease in node impurity across the 100s of trees: variables that split the classes with greater purity are assigned a higher importance. We will use these importance scores to select which variables to use."
      ]
    },
    {
      "cell_type": "code",
      "metadata": {
        "id": "MF8cHO_82OAx",
        "colab_type": "code",
        "colab": {}
      },
      "source": [
        "# RF variable importance\n",
        "rf_mod = RandomForestClassifier(n_estimators=1000, random_state=3314)   # create RF model\n",
        "_ = rf_mod.fit(data, labels)    # fit on entire dataset"
      ],
      "execution_count": 0,
      "outputs": []
    },
    {
      "cell_type": "code",
      "metadata": {
        "id": "qOeZY-rn4Jhw",
        "colab_type": "code",
        "outputId": "9ff648a5-8e3e-4788-cd29-d56f71b39833",
        "cellView": "form",
        "colab": {
          "base_uri": "https://localhost:8080/",
          "height": 298
        }
      },
      "source": [
        "#@title \n",
        "var_import=np.sort(var_import)[::-1]\n",
        "total, result = 0.0, 0\n",
        "for i in range(len(var_import)):\n",
        "  total = total + var_import[i]\n",
        "  if total > .90:\n",
        "    result = i\n",
        "    break\n",
        "\n",
        "plt.plot(np.arange(54623), var_import)\n",
        "plt.fill_between(np.arange(54623),var_import)\n",
        "line1= plt.axvline(x=result,color='gray')\n",
        "plt.legend((line1,), (\"90th percentile\",))\n",
        "plt.title(\"Variable Importances\")"
      ],
      "execution_count": 0,
      "outputs": [
        {
          "output_type": "execute_result",
          "data": {
            "text/plain": [
              "Text(0.5, 1.0, 'Variable Importances')"
            ]
          },
          "metadata": {
            "tags": []
          },
          "execution_count": 30
        },
        {
          "output_type": "display_data",
          "data": {
            "image/png": "[encoded data removed]",
            "text/plain": [
              "<Figure size 432x288 with 1 Axes>"
            ]
          },
          "metadata": {
            "tags": []
          }
        }
      ]
    },
    {
      "cell_type": "markdown",
      "metadata": {
        "id": "h1WhlkVVv_Sp",
        "colab_type": "text"
      },
      "source": [
        "Above is shown the variable importance scores, sorted, for all 54,623 variables. As we can see, the vast majority of the variable importance is held within the top several thousand variables, with the vertical line indicating the 90th percentile mark.\n",
        "\n",
        "Below I extract the 500, 1000, and 2000 most important features (as determined by the above score)."
      ]
    },
    {
      "cell_type": "code",
      "metadata": {
        "id": "iUsnZWuhQPb2",
        "colab_type": "code",
        "outputId": "66b82979-c339-4d30-b0ac-c607325aded8",
        "colab": {
          "base_uri": "https://localhost:8080/",
          "height": 119
        }
      },
      "source": [
        "# extract most important features\n",
        "var_import_index = np.argsort(rf_mod.feature_importances_)[::-1]   # sort by feature importance\n",
        "data_best500 = data.iloc[:,var_import_index[:500]]   # top 500 features\n",
        "data_best1000 = data.iloc[:,var_import_index[:1000]]    # top 1000\n",
        "data_best2000 = data.iloc[:,var_import_index[:2000]]    # top 2000\n",
        "print(data_best500.iloc[:5,:5])"
      ],
      "execution_count": 0,
      "outputs": [
        {
          "output_type": "stream",
          "text": [
            "               PAX8   TMEM101     RGS20    TRIM15     PRSS3\n",
            "GSM803615 -0.385425  0.041156 -1.224200 -0.149815 -0.644826\n",
            "GSM803674 -0.534277 -0.070203 -1.493759 -0.510926 -0.432550\n",
            "GSM803733 -0.372903  0.010249 -0.781479 -0.638624 -0.517498\n",
            "GSM803616 -0.674562  0.646346 -1.378388 -0.425276 -0.299458\n",
            "GSM803675 -0.333305  0.490886 -1.156327  0.423250 -0.348551\n"
          ],
          "name": "stdout"
        }
      ]
    },
    {
      "cell_type": "markdown",
      "metadata": {
        "id": "DXmnbAJoxUmk",
        "colab_type": "text"
      },
      "source": [
        "A quick google of these genes is very encouraging. Acording to NCBI.gov: \"Mutations in the PAX8 gene have been associated with thyroid dysgenesis, thyroid follicular carcinomas and atypical follicular thyroid adenomas.\" The top gene is associated with thyroid cancer! Below I plot the distributions of a few of these variables accross the 9 classes."
      ]
    },
    {
      "cell_type": "code",
      "metadata": {
        "id": "OenjD1I6Thq-",
        "colab_type": "code",
        "outputId": "969b606f-cc10-4be8-bf03-9fdab8d222de",
        "colab": {
          "base_uri": "https://localhost:8080/",
          "height": 390
        }
      },
      "source": [
        "fig, axes = plt.subplots(ncols=3, sharey=True, figsize=(16,6),)\n",
        "pax8_box = [data_best500[labels==i].iloc[:,0] for i in range(9)]\n",
        "tmem101_box = [data_best500[labels==i].iloc[:,1] for i in range(9)]\n",
        "trim15_box = [data_best500[labels==i].iloc[:,3] for i in range(9)]\n",
        "_= axes[0].boxplot(pax8_box)\n",
        "axes[0].set_title(\"PAX8\")\n",
        "_=axes[1].boxplot(tmem101_box)\n",
        "axes[1].set_title(\"TMEM101\")\n",
        "_=axes[2].boxplot(trim15_box)\n",
        "_=axes[2].set_title(\"TRIM15\")"
      ],
      "execution_count": 0,
      "outputs": [
        {
          "output_type": "display_data",
          "data": {
            "image/png": "[encoded data removed]",
            "text/plain": [
              "<Figure size 1152x432 with 3 Axes>"
            ]
          },
          "metadata": {
            "tags": []
          }
        }
      ]
    },
    {
      "cell_type": "markdown",
      "metadata": {
        "id": "WZ3F6PWVgY3d",
        "colab_type": "text"
      },
      "source": [
        "These variables with high importance are clearly very useful in separating the classes. PAX8 has high expression in classes 7 and 9, TMEM101 has low expression for class 7, and TRIM15 has high expression in class 3."
      ]
    },
    {
      "cell_type": "markdown",
      "metadata": {
        "id": "Uo3OmfEXfWwA",
        "colab_type": "text"
      },
      "source": [
        "## Boosting with Variable Selection\n",
        "Now I will attempt the same grid search as above, w/ 5 fold CV, using only the top 500 variables."
      ]
    },
    {
      "cell_type": "code",
      "metadata": {
        "id": "Tr9FXEpZUVOy",
        "colab_type": "code",
        "outputId": "f295acdc-ea39-4b3e-cdc1-01b254d7cbd3",
        "colab": {
          "base_uri": "https://localhost:8080/",
          "height": 323
        }
      },
      "source": [
        "# Boosting 500 features, 5-fold CV, Grid search\n",
        "random.seed(711)\n",
        "n_trees = np.array([100, 500, 900])  # grid search parameters\n",
        "rate = np.array([.1, .01, .001])\n",
        "depth = np.array([2, 4])\n",
        "params = np.array(np.meshgrid(n_trees, rate, depth)).reshape(3,-1).T\n",
        "\n",
        "# 5-fold CV\n",
        "skf = StratifiedKFold(n_splits=5, shuffle=True) # 5-fold\n",
        "for p in params:\n",
        "  boost_mod = GradientBoostingClassifier(n_estimators=int(p[0]), learning_rate=p[1], max_depth=int(p[2]))  # create boosting model\n",
        "  error = []\n",
        "  for train_index, test_index in skf.split(data_best500, labels):\n",
        "    X_train, X_test = data_best500.iloc[train_index], data_best500.iloc[test_index]  # train-test split\n",
        "    y_train, y_test = labels.iloc[train_index], labels.iloc[test_index]\n",
        "    boost_mod.fit(X_train, y_train)    # fit on train\n",
        "    y_pred = boost_mod.predict(X_test)  # predict on test\n",
        "    error.append(metrics.accuracy_score(y_test, y_pred))   # model accuracy\n",
        "  print(sum(error)/len(error), p)  # average accuracy\n"
      ],
      "execution_count": 0,
      "outputs": [
        {
          "output_type": "stream",
          "text": [
            "0.9258928571428571 [100.    0.1   2. ]\n",
            "0.9296428571428571 [100.    0.1   4. ]\n",
            "0.9446428571428571 [5.e+02 1.e-01 2.e+00]\n",
            "0.925357142857143 [5.e+02 1.e-01 4.e+00]\n",
            "0.9473214285714284 [9.e+02 1.e-01 2.e+00]\n",
            "0.9248214285714285 [9.e+02 1.e-01 4.e+00]\n",
            "0.9225 [1.e+02 1.e-02 2.e+00]\n",
            "0.9242857142857144 [1.e+02 1.e-02 4.e+00]\n",
            "0.9473214285714284 [5.e+02 1.e-02 2.e+00]\n",
            "0.9560714285714287 [5.e+02 1.e-02 4.e+00]\n",
            "0.9217857142857143 [9.e+02 1.e-02 2.e+00]\n",
            "0.9466071428571429 [9.e+02 1.e-02 4.e+00]\n",
            "0.8448214285714286 [1.e+02 1.e-03 2.e+00]\n",
            "0.8566071428571428 [1.e+02 1.e-03 4.e+00]\n",
            "0.9473214285714284 [5.e+02 1.e-03 2.e+00]\n",
            "0.9216071428571428 [5.e+02 1.e-03 4.e+00]\n",
            "0.9226785714285715 [9.e+02 1.e-03 2.e+00]\n",
            "0.9253571428571428 [9.e+02 1.e-03 4.e+00]\n"
          ],
          "name": "stdout"
        }
      ]
    },
    {
      "cell_type": "markdown",
      "metadata": {
        "id": "-dhAlKBTztoV",
        "colab_type": "text"
      },
      "source": [
        "This code ran much faster, but these results are not encouraging. The top score was 94% accuracy, which doesn't even beat Naive Bayes. Perhaps 500 variables are not enough. We attempt the same with 1000 variables."
      ]
    },
    {
      "cell_type": "code",
      "metadata": {
        "id": "whxTcRp-kcGI",
        "colab_type": "code",
        "outputId": "38019ad2-5d89-4f90-d5a2-dbe4ce4350d4",
        "cellView": "form",
        "colab": {
          "base_uri": "https://localhost:8080/",
          "height": 323
        }
      },
      "source": [
        "#@title Boosting, top 1000 features\n",
        "# Boosting after feature selection, 5-fold CV, Grid search, best 1000\n",
        "random.seed(711)\n",
        "n_trees = np.array([100, 500, 900])  # grid search parameters\n",
        "rate = np.array([.1, .01, .001])\n",
        "depth = np.array([2, 4])\n",
        "params = np.array(np.meshgrid(n_trees, rate, depth)).reshape(3,-1).T\n",
        "\n",
        "# 5-fold CV\n",
        "skf = StratifiedKFold(n_splits=5, shuffle=True) # 5-fold\n",
        "for p in params:\n",
        "  boost_mod = GradientBoostingClassifier(n_estimators=int(p[0]), learning_rate=p[1], max_depth=int(p[2]))  # create boosting model\n",
        "  error = []\n",
        "  for train_index, test_index in skf.split(data_best1000, labels):\n",
        "    X_train, X_test = data_best1000.iloc[train_index], data_best1000.iloc[test_index]  # train-test split\n",
        "    y_train, y_test = labels.iloc[train_index], labels.iloc[test_index]\n",
        "    boost_mod.fit(X_train, y_train)    # fit on train\n",
        "    y_pred = boost_mod.predict(X_test)  # predict on test\n",
        "    error.append(metrics.accuracy_score(y_test, y_pred))   # model accuracy\n",
        "  print(sum(error)/len(error), p)  # average accuracy"
      ],
      "execution_count": 0,
      "outputs": [
        {
          "output_type": "stream",
          "text": [
            "0.9535714285714285 [100.    0.1   2. ]\n",
            "0.9428571428571428 [100.    0.1   4. ]\n",
            "0.9724999999999999 [5.e+02 1.e-01 2.e+00]\n",
            "0.8914285714285715 [5.e+02 1.e-01 4.e+00]\n",
            "0.98375 [9.e+02 1.e-01 2.e+00]\n",
            "0.9446428571428571 [9.e+02 1.e-01 4.e+00]\n",
            "0.9766071428571429 [1.e+02 1.e-02 2.e+00]\n",
            "0.9351785714285714 [1.e+02 1.e-02 4.e+00]\n",
            "0.9358928571428571 [5.e+02 1.e-02 2.e+00]\n",
            "0.9221428571428572 [5.e+02 1.e-02 4.e+00]\n",
            "0.9116071428571428 [9.e+02 1.e-02 2.e+00]\n",
            "0.9419642857142858 [9.e+02 1.e-02 4.e+00]\n",
            "0.8487500000000001 [1.e+02 1.e-03 2.e+00]\n",
            "0.8491071428571428 [1.e+02 1.e-03 4.e+00]\n",
            "0.9321428571428572 [5.e+02 1.e-03 2.e+00]\n",
            "0.90625 [5.e+02 1.e-03 4.e+00]\n",
            "0.9546428571428571 [9.e+02 1.e-03 2.e+00]\n",
            "0.91375 [9.e+02 1.e-03 4.e+00]\n"
          ],
          "name": "stdout"
        }
      ]
    },
    {
      "cell_type": "markdown",
      "metadata": {
        "id": "7_O_MyCc0Xsa",
        "colab_type": "text"
      },
      "source": [
        "This is better. The best model had 98.3% accuracy. It's parameters were `[n_estimators=900, learning_rate=.1, max_depth=2] `. This is getting close to our Random Forest benchmark of 98.8%.\n",
        "\n",
        "I will now grid-search around these parameters: I will try `n_estimators=[800,1000,1200]` and `learning_rate=[.01,.1,.2]` with `max_depth=2` "
      ]
    },
    {
      "cell_type": "code",
      "metadata": {
        "id": "Aj5PhuiXVeir",
        "colab_type": "code",
        "outputId": "68c4eac7-666c-4705-e4af-a3e962738388",
        "cellView": "form",
        "colab": {
          "base_uri": "https://localhost:8080/",
          "height": 170
        }
      },
      "source": [
        "#@title Grid Search, top 1000 features\n",
        "# Boosting after feature selection, 5-fold CV, Grid search, best 1000\n",
        "random.seed(711)\n",
        "n_trees = np.array([800, 1000, 1200])  # grid search parameters\n",
        "rate = np.array([.05, .1, .2])\n",
        "depth = np.array([2])\n",
        "params = np.array(np.meshgrid(n_trees, rate, depth)).reshape(3,-1).T\n",
        "\n",
        "# 5-fold CV\n",
        "skf = StratifiedKFold(n_splits=5, shuffle=True) # 5-fold\n",
        "for p in params:\n",
        "  boost_mod = GradientBoostingClassifier(n_estimators=int(p[0]), learning_rate=p[1], max_depth=int(p[2]))  # create boosting model\n",
        "  error = []\n",
        "  for train_index, test_index in skf.split(data_best, labels):\n",
        "    X_train, X_test = data_best.iloc[train_index], data_best.iloc[test_index]  # train-test split\n",
        "    y_train, y_test = labels.iloc[train_index], labels.iloc[test_index]\n",
        "    boost_mod.fit(X_train, y_train)    # fit on train\n",
        "    y_pred = boost_mod.predict(X_test)  # predict on test\n",
        "    error.append(metrics.accuracy_score(y_test, y_pred))   # model accuracy\n",
        "  print(sum(error)/len(error), p)  # average accuracy"
      ],
      "execution_count": 0,
      "outputs": [
        {
          "output_type": "stream",
          "text": [
            "0.9435714285714285 [8.e+02 5.e-02 2.e+00]\n",
            "0.9580357142857142 [1.e+03 5.e-02 2.e+00]\n",
            "0.9305357142857144 [1.2e+03 5.0e-02 2.0e+00]\n",
            "0.9216071428571428 [8.e+02 1.e-01 2.e+00]\n",
            "0.9378571428571428 [1.e+03 1.e-01 2.e+00]\n",
            "0.9435714285714287 [1.2e+03 1.0e-01 2.0e+00]\n",
            "0.9335714285714285 [8.e+02 2.e-01 2.e+00]\n",
            "0.9428571428571428 [1.e+03 2.e-01 2.e+00]\n",
            "0.9321428571428572 [1.2e+03 2.0e-01 2.0e+00]\n"
          ],
          "name": "stdout"
        }
      ]
    },
    {
      "cell_type": "markdown",
      "metadata": {
        "id": "iTcL0T3X3ywH",
        "colab_type": "text"
      },
      "source": [
        "None of these settings improved performance. I will retry the original search parameters, but with 2000 variables."
      ]
    },
    {
      "cell_type": "code",
      "metadata": {
        "id": "noU6FsXAYkyH",
        "colab_type": "code",
        "outputId": "9b5f6c22-4415-4e7f-ddfe-0245af5ceedc",
        "cellView": "form",
        "colab": {
          "base_uri": "https://localhost:8080/",
          "height": 323
        }
      },
      "source": [
        "#@title Boosting, top 2000 features\n",
        "# Boosting after feature selection, 5-fold CV, Grid search, best 2000\n",
        "random.seed(711)\n",
        "n_trees = np.array([100, 500, 900])  # grid search parameters\n",
        "rate = np.array([.1, .01, .001])\n",
        "depth = np.array([2, 4])\n",
        "params = np.array(np.meshgrid(n_trees, rate, depth)).reshape(3,-1).T\n",
        "\n",
        "# 5-fold CV\n",
        "skf = StratifiedKFold(n_splits=5, shuffle=True) # 5-fold\n",
        "for p in params:\n",
        "  boost_mod = GradientBoostingClassifier(n_estimators=int(p[0]), learning_rate=p[1], max_depth=int(p[2]))  # create boosting model\n",
        "  error = []\n",
        "  for train_index, test_index in skf.split(data_best2000, labels):\n",
        "    X_train, X_test = data_best2000.iloc[train_index], data_best2000.iloc[test_index]  # train-test split\n",
        "    y_train, y_test = labels.iloc[train_index], labels.iloc[test_index]\n",
        "    boost_mod.fit(X_train, y_train)    # fit on train\n",
        "    y_pred = boost_mod.predict(X_test)  # predict on test\n",
        "    error.append(metrics.accuracy_score(y_test, y_pred))   # model accuracy\n",
        "  print(sum(error)/len(error), p)  # average accuracy"
      ],
      "execution_count": 0,
      "outputs": [
        {
          "output_type": "stream",
          "text": [
            "0.9730357142857142 [100.    0.1   2. ]\n",
            "0.9135714285714286 [100.    0.1   4. ]\n",
            "0.8982142857142857 [5.e+02 1.e-01 2.e+00]\n",
            "0.95625 [5.e+02 1.e-01 4.e+00]\n",
            "0.9394642857142858 [9.e+02 1.e-01 2.e+00]\n",
            "0.9446428571428571 [9.e+02 1.e-01 4.e+00]\n",
            "0.9166071428571427 [1.e+02 1.e-02 2.e+00]\n",
            "0.9151785714285714 [1.e+02 1.e-02 4.e+00]\n",
            "0.9605357142857143 [5.e+02 1.e-02 2.e+00]\n",
            "0.9319642857142856 [5.e+02 1.e-02 4.e+00]\n",
            "0.9596428571428571 [9.e+02 1.e-02 2.e+00]\n",
            "0.9396428571428572 [9.e+02 1.e-02 4.e+00]\n",
            "0.8701785714285715 [1.e+02 1.e-03 2.e+00]\n",
            "0.8753571428571428 [1.e+02 1.e-03 4.e+00]\n",
            "0.9435714285714287 [5.e+02 1.e-03 2.e+00]\n",
            "0.90625 [5.e+02 1.e-03 4.e+00]\n",
            "0.91875 [9.e+02 1.e-03 2.e+00]\n",
            "0.918392857142857 [9.e+02 1.e-03 4.e+00]\n"
          ],
          "name": "stdout"
        }
      ]
    },
    {
      "cell_type": "markdown",
      "metadata": {
        "id": "02ZOOzwf4VeD",
        "colab_type": "text"
      },
      "source": [
        "None of these models outperformed the models with only 1000 features, and this is beggining to take significantly more time to run. We will try to optimize the approach."
      ]
    },
    {
      "cell_type": "markdown",
      "metadata": {
        "id": "Vz_tiF5FdVj6",
        "colab_type": "text"
      },
      "source": [
        "## XGBoost\n",
        "XGBoost is the python industry standard for boosted trees, with several useful features including stochastic gradient boosting and GPU acceleration. This will allow me to run models faster.\n",
        "\n",
        "Another important method used often in practice is Random Search (as opposed to Grid Search). It is more thoughrough, and can efficiently explore more of the parameter space."
      ]
    },
    {
      "cell_type": "markdown",
      "metadata": {
        "id": "YIYd2CZ1AW8v",
        "colab_type": "text"
      },
      "source": [
        "\n",
        "<img src=\"https://drive.google.com/uc?id=1WIqueGgaqcXRMWBcljgrMd10IBnluKQN\"  width= \"700\"> \n"
      ]
    },
    {
      "cell_type": "markdown",
      "metadata": {
        "id": "wXczUnoPju_c",
        "colab_type": "text"
      },
      "source": [
        "*With grid search, nine trials only test three distinct places in the important parameter. With random search, all nine trails explore distinct values. Figure Credit: Peter Worcester*"
      ]
    },
    {
      "cell_type": "markdown",
      "metadata": {
        "id": "h8BuUQaWGQXG",
        "colab_type": "text"
      },
      "source": [
        "I will attempt a RandomSearch through the parameters, and will attempt to use the stochastic boosting feature. This means that only a random portion of the variables and datapoints are used to fit each small tree. For this trial I will use 10% of the rows and 10% of the columns for stochastic boosting. This will allow the models to run in reasonable time."
      ]
    },
    {
      "cell_type": "code",
      "metadata": {
        "id": "xVdlr-_gdg_L",
        "colab_type": "code",
        "outputId": "ec31c251-6a34-4837-c918-2716e11728b4",
        "colab": {
          "base_uri": "https://localhost:8080/",
          "height": 187
        }
      },
      "source": [
        "#XGboost, RandomSearch, stochastic gradient\n",
        "random.seed(711)\n",
        "n_iter = 10\n",
        "\n",
        "n_trees = np.array([100, 200, 300, 500, 700])  \n",
        "rate = np.array([0.1, .07, .05, .03, 0.01])\n",
        "depth = np.array([2,3,4])\n",
        "params = np.array([np.random.choice(n_trees,n_iter),np.random.choice(rate,n_iter),np.random.choice(depth,n_iter)]).T  # grid search params\n",
        "\n",
        "# 5-fold CV\n",
        "skf = StratifiedKFold(n_splits=5, shuffle=True) # 5-fold\n",
        "for p in params:\n",
        "  boost_mod = XGBClassifier(n_estimators=int(p[0]), learning_rate=p[1], max_depth=int(p[2]), colsample_bytree=.1, subsample=.1, tree_method=\"gpu_hist\")   # create boosting model\n",
        "  error = []\n",
        "  for train_index, test_index in skf.split(data, labels):\n",
        "    X_train, X_test = data.iloc[train_index].to_numpy(), data.iloc[test_index].to_numpy()  # train-test split\n",
        "    y_train, y_test = labels.iloc[train_index], labels.iloc[test_index]\n",
        "    boost_mod.fit(X_train, y_train)    # fit on train\n",
        "    y_pred = boost_mod.predict(X_test)  # predict on test\n",
        "    error.append(metrics.accuracy_score(y_test, y_pred))   # model accuracy\n",
        "  print(sum(error)/len(error), p)  # average accuracy"
      ],
      "execution_count": 0,
      "outputs": [
        {
          "output_type": "stream",
          "text": [
            "0.8680357142857144 [3.e+02 1.e-02 4.e+00]\n",
            "0.9125 [5.e+02 5.e-02 2.e+00]\n",
            "0.9333928571428572 [7.e+02 5.e-02 3.e+00]\n",
            "0.9141071428571429 [7.e+02 3.e-02 3.e+00]\n",
            "0.9308928571428572 [7.e+02 7.e-02 4.e+00]\n",
            "0.6789285714285714 [1.e+02 1.e-02 4.e+00]\n",
            "0.8955357142857142 [5.e+02 3.e-02 4.e+00]\n",
            "0.8532142857142857 [2.e+02 7.e-02 4.e+00]\n",
            "0.8144642857142858 [2.e+02 1.e-02 4.e+00]\n",
            "0.7126785714285714 [1.e+02 5.e-02 2.e+00]\n"
          ],
          "name": "stdout"
        }
      ]
    },
    {
      "cell_type": "markdown",
      "metadata": {
        "id": "FaDTS9z9G_pX",
        "colab_type": "text"
      },
      "source": [
        "My initial trial is not too promising with a best score of 93%, but I will try again without stochastic boosting (100% of rows and cols used). In order to speed things up, I will use only the top 500 features selected previously. "
      ]
    },
    {
      "cell_type": "code",
      "metadata": {
        "id": "0TwWaStJOkJv",
        "colab_type": "code",
        "cellView": "form",
        "colab": {}
      },
      "source": [
        "#@title XGBoost, RandomSearch, top 500 features\n",
        "#Boosting, Random grid search, XGboost, feature selection\n",
        "\n",
        "random.seed(711)\n",
        "# create a default XGBoost classifier\n",
        "boost_mod = XGBClassifier(tree_method=\"gpu_hist\") \n",
        "# create K-fold object\n",
        "skf = StratifiedKFold(n_splits=5, shuffle=True) # 5-fold\n",
        "# Create the grid search parameter grid and scoring funcitons\n",
        "param_grid = {\n",
        "    \"learning_rate\": [0.1, .07, .05, .03, 0.01],\n",
        "    \"max_depth\": [2, 3, 4],\n",
        "    \"n_estimators\": [100, 200, 300, 500, 700],\n",
        "}\n",
        "# create the grid search object\n",
        "grid = RandomizedSearchCV(estimator=boost_mod, param_distributions=param_grid,cv=skf,scoring='accuracy',n_jobs=-1,n_iter=10)\n",
        "# fit grid search\n",
        "best_model = grid.fit(data_best500.to_numpy(), labels)\n",
        "\n",
        "print(f'Best score: {best_model.best_score_}')\n",
        "print(f'Best model: {best_model.best_params_}')"
      ],
      "execution_count": 0,
      "outputs": []
    },
    {
      "cell_type": "code",
      "metadata": {
        "id": "O1S3pE2vbI35",
        "colab_type": "code",
        "outputId": "93cfab06-44fe-4ed7-cc3d-ed1621a7998e",
        "colab": {
          "base_uri": "https://localhost:8080/",
          "height": 359
        }
      },
      "source": [
        "pd.DataFrame(best_model.cv_results_).iloc[:,[4,5,6,-3]]"
      ],
      "execution_count": 0,
      "outputs": [
        {
          "output_type": "execute_result",
          "data": {
            "text/html": [
              "<div>\n",
              "<style scoped>\n",
              "    .dataframe tbody tr th:only-of-type {\n",
              "        vertical-align: middle;\n",
              "    }\n",
              "\n",
              "    .dataframe tbody tr th {\n",
              "        vertical-align: top;\n",
              "    }\n",
              "\n",
              "    .dataframe thead th {\n",
              "        text-align: right;\n",
              "    }\n",
              "</style>\n",
              "<table border=\"1\" class=\"dataframe\">\n",
              "  <thead>\n",
              "    <tr style=\"text-align: right;\">\n",
              "      <th></th>\n",
              "      <th>param_n_estimators</th>\n",
              "      <th>param_max_depth</th>\n",
              "      <th>param_learning_rate</th>\n",
              "      <th>mean_test_score</th>\n",
              "    </tr>\n",
              "  </thead>\n",
              "  <tbody>\n",
              "    <tr>\n",
              "      <th>0</th>\n",
              "      <td>500</td>\n",
              "      <td>3</td>\n",
              "      <td>0.05</td>\n",
              "      <td>0.936782</td>\n",
              "    </tr>\n",
              "    <tr>\n",
              "      <th>1</th>\n",
              "      <td>700</td>\n",
              "      <td>4</td>\n",
              "      <td>0.07</td>\n",
              "      <td>0.931034</td>\n",
              "    </tr>\n",
              "    <tr>\n",
              "      <th>2</th>\n",
              "      <td>700</td>\n",
              "      <td>3</td>\n",
              "      <td>0.05</td>\n",
              "      <td>0.936782</td>\n",
              "    </tr>\n",
              "    <tr>\n",
              "      <th>3</th>\n",
              "      <td>300</td>\n",
              "      <td>2</td>\n",
              "      <td>0.03</td>\n",
              "      <td>0.942529</td>\n",
              "    </tr>\n",
              "    <tr>\n",
              "      <th>4</th>\n",
              "      <td>300</td>\n",
              "      <td>4</td>\n",
              "      <td>0.05</td>\n",
              "      <td>0.936782</td>\n",
              "    </tr>\n",
              "    <tr>\n",
              "      <th>5</th>\n",
              "      <td>200</td>\n",
              "      <td>3</td>\n",
              "      <td>0.07</td>\n",
              "      <td>0.931034</td>\n",
              "    </tr>\n",
              "    <tr>\n",
              "      <th>6</th>\n",
              "      <td>200</td>\n",
              "      <td>4</td>\n",
              "      <td>0.01</td>\n",
              "      <td>0.885057</td>\n",
              "    </tr>\n",
              "    <tr>\n",
              "      <th>7</th>\n",
              "      <td>300</td>\n",
              "      <td>3</td>\n",
              "      <td>0.1</td>\n",
              "      <td>0.936782</td>\n",
              "    </tr>\n",
              "    <tr>\n",
              "      <th>8</th>\n",
              "      <td>700</td>\n",
              "      <td>4</td>\n",
              "      <td>0.1</td>\n",
              "      <td>0.936782</td>\n",
              "    </tr>\n",
              "    <tr>\n",
              "      <th>9</th>\n",
              "      <td>700</td>\n",
              "      <td>2</td>\n",
              "      <td>0.07</td>\n",
              "      <td>0.942529</td>\n",
              "    </tr>\n",
              "  </tbody>\n",
              "</table>\n",
              "</div>"
            ],
            "text/plain": [
              "  param_n_estimators param_max_depth param_learning_rate  mean_test_score\n",
              "0                500               3                0.05         0.936782\n",
              "1                700               4                0.07         0.931034\n",
              "2                700               3                0.05         0.936782\n",
              "3                300               2                0.03         0.942529\n",
              "4                300               4                0.05         0.936782\n",
              "5                200               3                0.07         0.931034\n",
              "6                200               4                0.01         0.885057\n",
              "7                300               3                 0.1         0.936782\n",
              "8                700               4                 0.1         0.936782\n",
              "9                700               2                0.07         0.942529"
            ]
          },
          "metadata": {
            "tags": []
          },
          "execution_count": 27
        }
      ]
    },
    {
      "cell_type": "markdown",
      "metadata": {
        "id": "-fMgJDyQIJbv",
        "colab_type": "text"
      },
      "source": [
        "Results are slightly better, with a top score of 94%. I will repeat the above search with the top 1000 and 2000 features."
      ]
    },
    {
      "cell_type": "code",
      "metadata": {
        "id": "K26q8guUmOlv",
        "colab_type": "code",
        "outputId": "4adbba9c-e3e5-4670-d5d0-86c146745ada",
        "cellView": "form",
        "colab": {
          "base_uri": "https://localhost:8080/",
          "height": 139
        }
      },
      "source": [
        "#@title XGBoost, RandomSearch, top 1000 features\n",
        "#Boosting, Random grid search, XGboost, best 1000 features\n",
        "\n",
        "random.seed(711)\n",
        "# create a default XGBoost classifier\n",
        "boost_mod = XGBClassifier(tree_method=\"gpu_hist\") \n",
        "\n",
        "# create K-fold object\n",
        "skf = StratifiedKFold(n_splits=5, shuffle=True) # 5-fold\n",
        "# Create the grid search parameter grid and scoring funcitons\n",
        "param_grid = {\n",
        "    \"learning_rate\": [0.1, .07, .05, .03, 0.01],\n",
        "    \"max_depth\": [2, 3, 4],\n",
        "    \"n_estimators\": [100, 200, 300, 500, 700],\n",
        "}\n",
        "scoring = 'accuracy'\n",
        "\n",
        "# create the grid search object\n",
        "grid = RandomizedSearchCV(\n",
        "    estimator=boost_mod, \n",
        "    param_distributions=param_grid,\n",
        "    cv=skf,\n",
        "    scoring=scoring,\n",
        "    n_jobs=-1,\n",
        "    n_iter=10,\n",
        ")\n",
        "# fit grid search\n",
        "best_model = grid.fit(data_best1000.to_numpy(), labels)\n",
        "\n",
        "print(f'Best score: {best_model.best_score_}')\n",
        "print(f'Best model: {best_model.best_params_}')"
      ],
      "execution_count": 0,
      "outputs": [
        {
          "output_type": "stream",
          "text": [
            "/usr/local/lib/python3.6/dist-packages/joblib/externals/loky/process_executor.py:706: UserWarning: A worker stopped while some jobs were given to the executor. This can be caused by a too short worker timeout or by a memory leak.\n",
            "  \"timeout or by a memory leak.\", UserWarning\n",
            "/usr/local/lib/python3.6/dist-packages/sklearn/model_selection/_search.py:814: DeprecationWarning: The default of the `iid` parameter will change from True to False in version 0.22 and will be removed in 0.24. This will change numeric results when test-set sizes are unequal.\n",
            "  DeprecationWarning)\n"
          ],
          "name": "stderr"
        },
        {
          "output_type": "stream",
          "text": [
            "Best score: 0.9712643678160919\n",
            "Best model: {'n_estimators': 700, 'max_depth': 4, 'learning_rate': 0.05}\n"
          ],
          "name": "stdout"
        }
      ]
    },
    {
      "cell_type": "code",
      "metadata": {
        "id": "jzUrVZmGsPOC",
        "colab_type": "code",
        "outputId": "85383f81-e8d8-498e-eb99-ddd3201e8776",
        "cellView": "form",
        "colab": {
          "base_uri": "https://localhost:8080/",
          "height": 139
        }
      },
      "source": [
        "#@title XGBoost, RandomSearch, top 2000 features\n",
        "#Boosting, Random grid search, XGboost, best 2000 feature selection\n",
        "\n",
        "random.seed(711)\n",
        "# create a default XGBoost classifier\n",
        "boost_mod = XGBClassifier(tree_method=\"gpu_hist\") \n",
        "# create K-fold object\n",
        "skf = StratifiedKFold(n_splits=5, shuffle=True) # 5-fold\n",
        "# Create the grid search parameter grid and scoring funcitons\n",
        "param_grid = {\n",
        "    \"learning_rate\": [0.1, .07, .05, .03, 0.01],\n",
        "    \"max_depth\": [2, 3, 4],\n",
        "    \"n_estimators\": [100, 200, 300, 500, 700],\n",
        "}\n",
        "scoring = 'accuracy'\n",
        "\n",
        "# create the grid search object\n",
        "grid = RandomizedSearchCV(\n",
        "    estimator=boost_mod,param_distributions=param_grid,cv=skf,scoring=scoring,n_jobs=-1,n_iter=10)\n",
        "# fit grid search\n",
        "best_model = grid.fit(data_best2000.to_numpy(), labels)\n",
        "\n",
        "print(f'Best score: {best_model.best_score_}')\n",
        "print(f'Best model: {best_model.best_params_}')"
      ],
      "execution_count": 0,
      "outputs": [
        {
          "output_type": "stream",
          "text": [
            "/usr/local/lib/python3.6/dist-packages/joblib/externals/loky/process_executor.py:706: UserWarning: A worker stopped while some jobs were given to the executor. This can be caused by a too short worker timeout or by a memory leak.\n",
            "  \"timeout or by a memory leak.\", UserWarning\n",
            "/usr/local/lib/python3.6/dist-packages/sklearn/model_selection/_search.py:814: DeprecationWarning: The default of the `iid` parameter will change from True to False in version 0.22 and will be removed in 0.24. This will change numeric results when test-set sizes are unequal.\n",
            "  DeprecationWarning)\n"
          ],
          "name": "stderr"
        },
        {
          "output_type": "stream",
          "text": [
            "Best score: 0.9827586206896551\n",
            "Best model: {'n_estimators': 700, 'max_depth': 3, 'learning_rate': 0.03}\n"
          ],
          "name": "stdout"
        }
      ]
    },
    {
      "cell_type": "markdown",
      "metadata": {
        "id": "CT1QlrB4Iw_P",
        "colab_type": "text"
      },
      "source": [
        "This is much better. With 1000 variables, 97.1% was acheived, and with 2000, 98.2%. I will using these parameters with all the features:"
      ]
    },
    {
      "cell_type": "code",
      "metadata": {
        "id": "SQtI4GLFq2Is",
        "colab_type": "code",
        "outputId": "73a5f4f1-3a47-449f-a9b0-43bec35f3c0c",
        "colab": {
          "base_uri": "https://localhost:8080/",
          "height": 34
        }
      },
      "source": [
        "# XGBoost, 5-fold CV, all features used\n",
        "random.seed(1699)\n",
        "boost_mod = XGBClassifier(n_estimators=700,learning_rate=.05,max_depth=4, tree_method=\"gpu_hist\")   # create boosting model\n",
        "skf = StratifiedKFold(n_splits=5, shuffle=True) # 5-fold\n",
        "error = []\n",
        "for train_index, test_index in skf.split(data, labels):\n",
        "  X_train, X_test = data.iloc[train_index].to_numpy(), data.iloc[test_index].to_numpy()  # train-test split\n",
        "  y_train, y_test = labels.iloc[train_index], labels.iloc[test_index]\n",
        "  boost_mod.fit(X_train, y_train)    # fit on train\n",
        "  y_pred = boost_mod.predict(X_test)  # predict on test\n",
        "  error.append(metrics.accuracy_score(y_test, y_pred))   # model accuracy\n",
        "print(sum(error)/len(error))  # average accuracy"
      ],
      "execution_count": 0,
      "outputs": [
        {
          "output_type": "stream",
          "text": [
            "0.9198214285714286\n"
          ],
          "name": "stdout"
        }
      ]
    },
    {
      "cell_type": "markdown",
      "metadata": {
        "id": "MdyXL-_tJ2EG",
        "colab_type": "text"
      },
      "source": [
        "Adding in the rest of the features did not help, and in fact detracted quite a bit, likely due to higher variance. I notice that higher numbers of trees seem to perform well (700 trees, at the upper end of the search). I now a search with higher numbers of trees, between 600 and 1200. "
      ]
    },
    {
      "cell_type": "code",
      "metadata": {
        "id": "h2pTTnT0JLSh",
        "colab_type": "code",
        "outputId": "4a2e68e3-d01e-40be-9e08-12095b86958d",
        "colab": {
          "base_uri": "https://localhost:8080/",
          "height": 139
        }
      },
      "source": [
        "# Another grid search, more trees.\n",
        "#XGBoost, RandomSearch, top 2000 features\n",
        "\n",
        "random.seed(711)\n",
        "# create a default XGBoost classifier\n",
        "boost_mod = XGBClassifier(tree_method=\"gpu_hist\") \n",
        "# create K-fold object\n",
        "skf = StratifiedKFold(n_splits=5, shuffle=True) # 5-fold\n",
        "# Create the grid search parameter grid and scoring funcitons\n",
        "param_grid = {\n",
        "    \"learning_rate\": stats.uniform(loc=.01,scale=.99),\n",
        "    \"max_depth\": [2, 4],\n",
        "    \"n_estimators\": np.arange(600,1200),\n",
        "}\n",
        "\n",
        "# create the grid search object\n",
        "grid = RandomizedSearchCV(estimator=boost_mod, param_distributions=param_grid, cv=skf, scoring='accuracy', n_jobs=-1, n_iter=10)\n",
        "# fit grid search\n",
        "best_model = grid.fit(data_best2000.to_numpy(), labels)\n",
        "\n",
        "print(f'Best score: {best_model.best_score_}')\n",
        "print(f'Best model: {best_model.best_params_}')"
      ],
      "execution_count": 0,
      "outputs": [
        {
          "output_type": "stream",
          "text": [
            "/usr/local/lib/python3.6/dist-packages/joblib/externals/loky/process_executor.py:706: UserWarning: A worker stopped while some jobs were given to the executor. This can be caused by a too short worker timeout or by a memory leak.\n",
            "  \"timeout or by a memory leak.\", UserWarning\n",
            "/usr/local/lib/python3.6/dist-packages/sklearn/model_selection/_search.py:814: DeprecationWarning: The default of the `iid` parameter will change from True to False in version 0.22 and will be removed in 0.24. This will change numeric results when test-set sizes are unequal.\n",
            "  DeprecationWarning)\n"
          ],
          "name": "stderr"
        },
        {
          "output_type": "stream",
          "text": [
            "Best score: 0.9827586206896551\n",
            "Best model: {'learning_rate': 0.5255287278569792, 'max_depth': 2, 'n_estimators': 970}\n"
          ],
          "name": "stdout"
        }
      ]
    },
    {
      "cell_type": "markdown",
      "metadata": {
        "id": "419xxTFULMIL",
        "colab_type": "text"
      },
      "source": [
        "Again, good, but no improvement over the previous. We still have not beaten random forest at 98.8%\n",
        "\n",
        "Now comes a twist in my tale: by chance I ran a model with the following parameters, using some mild stochastic boosting."
      ]
    },
    {
      "cell_type": "code",
      "metadata": {
        "id": "BzpTVnJAA10S",
        "colab_type": "code",
        "outputId": "63399ba7-ef5a-46b4-de36-9805bbb54b3c",
        "colab": {
          "base_uri": "https://localhost:8080/",
          "height": 34
        }
      },
      "source": [
        "# XGBoost, 5-fold CV, all features\n",
        "random.seed(1699)\n",
        "boost_mod = XGBClassifier(n_estimators=100,learning_rate=.1,max_depth=2, tree_method=\"gpu_hist\", colsample_bytree=.7, subsample=.7)   # create boosting model\n",
        "skf = StratifiedKFold(n_splits=5, shuffle=True) # 5-fold\n",
        "error = []\n",
        "for train_index, test_index in skf.split(data, labels):\n",
        "  X_train, X_test = data.iloc[train_index].to_numpy(), data.iloc[test_index].to_numpy()  # train-test split\n",
        "  y_train, y_test = labels.iloc[train_index], labels.iloc[test_index]\n",
        "  boost_mod.fit(X_train, y_train)    # fit on train\n",
        "  y_pred = boost_mod.predict(X_test)  # predict on test\n",
        "  error.append(metrics.accuracy_score(y_test, y_pred))   # model accuracy\n",
        "print(sum(error)/len(error))  # average accuracy"
      ],
      "execution_count": 0,
      "outputs": [
        {
          "output_type": "stream",
          "text": [
            "0.9875\n"
          ],
          "name": "stdout"
        }
      ]
    },
    {
      "cell_type": "markdown",
      "metadata": {
        "id": "9tu-zvH3MElF",
        "colab_type": "text"
      },
      "source": [
        "This is the highest score yet! I now do a RandomSearch around those parameters:"
      ]
    },
    {
      "cell_type": "code",
      "metadata": {
        "id": "O2VbYoeUr75L",
        "colab_type": "code",
        "outputId": "e08350a4-e666-4dff-c516-e6c2bd1b7e50",
        "colab": {
          "base_uri": "https://localhost:8080/",
          "height": 187
        }
      },
      "source": [
        "# random search around the lucky numbers\n",
        "# XGBoost, all features\n",
        "random.seed(711)\n",
        "n_iter = 10 # n random searches\n",
        "\n",
        "# search parameters\n",
        "n_trees = np.arange(70,130) \n",
        "rate = np.linspace(.05,.5,50)\n",
        "cols_samp = np.linspace(.5,1,50)\n",
        "subsamp = np.linspace(.3,1,50)\n",
        "params = np.array([np.random.choice(n_trees,n_iter),np.random.choice(rate,n_iter),np.random.choice(cols_samp,n_iter),np.random.choice(subsamp,n_iter)]).T\n",
        "\n",
        "# 5-fold CV\n",
        "skf = StratifiedKFold(n_splits=5, shuffle=True) # 5-fold\n",
        "for p in params:\n",
        "  boost_mod = XGBClassifier(n_estimators=int(p[0]), learning_rate=p[1], max_depth=2, colsample_bytree=p[2], subsample=p[3], tree_method=\"gpu_hist\")   # create boosting model\n",
        "  error = []\n",
        "  for train_index, test_index in skf.split(data, labels):\n",
        "    X_train, X_test = data.iloc[train_index].to_numpy(), data.iloc[test_index].to_numpy()  # train-test split\n",
        "    y_train, y_test = labels.iloc[train_index], labels.iloc[test_index]\n",
        "    boost_mod.fit(X_train, y_train)    # fit on train\n",
        "    y_pred = boost_mod.predict(X_test)  # predict on test\n",
        "    error.append(metrics.accuracy_score(y_test, y_pred))   # model accuracy\n",
        "  print(\"Accuracy:\",sum(error)/len(error),\"params:\", p)  # average accuracy"
      ],
      "execution_count": 0,
      "outputs": [
        {
          "output_type": "stream",
          "text": [
            "Accuracy: 0.9875 params: [105.       0.2337   0.7755   0.6143]\n",
            "Accuracy: 0.9830357142857142 params: [126.       0.4449   0.5408   0.7429]\n",
            "Accuracy: 0.9698214285714286 params: [87.      0.3622  0.7551  0.4429]\n",
            "Accuracy: 0.9824999999999999 params: [9.0000e+01 6.8367e-02 6.8367e-01 6.7143e-01]\n",
            "Accuracy: 0.9603571428571428 params: [87.      0.1235  0.949   0.8714]\n",
            "Accuracy: 0.9583928571428573 params: [125.       0.5      0.5      0.5714]\n",
            "Accuracy: 0.9823214285714286 params: [109.       0.3806   0.8061   0.4714]\n",
            "Accuracy: 0.9885714285714287 params: [98.      0.1418  0.8673  0.7714]\n",
            "Accuracy: 0.9817857142857143 params: [1.2000e+02 1.0510e-01 9.3878e-01 9.0000e-01]\n",
            "Accuracy: 1.0 params: [74.      0.2429  0.6939  0.5857]\n"
          ],
          "name": "stdout"
        }
      ]
    },
    {
      "cell_type": "markdown",
      "metadata": {
        "id": "9tVoN58jMNVg",
        "colab_type": "text"
      },
      "source": [
        "100% accuracy with 5-fold CV! To veryfy I repeat with those parameters and a different seed:"
      ]
    },
    {
      "cell_type": "code",
      "metadata": {
        "id": "35g9PFkL-adU",
        "colab_type": "code",
        "outputId": "0aae3176-048a-4f32-ef7a-e154ea6813f9",
        "colab": {
          "base_uri": "https://localhost:8080/",
          "height": 34
        }
      },
      "source": [
        "# Boosting, 5-fold CV, XGBoost\n",
        "random.seed(7211)\n",
        "boost_mod = XGBClassifier(n_estimators=74,learning_rate=.2429,max_depth=2, tree_method=\"gpu_hist\", colsample_bytree=.6939, subsample=.5857)   # create boosting model\n",
        "skf = StratifiedKFold(n_splits=5, shuffle=True) # 5-fold\n",
        "error = []\n",
        "for train_index, test_index in skf.split(data, labels):\n",
        "  X_train, X_test = data.iloc[train_index].to_numpy(), data.iloc[test_index].to_numpy()  # train-test split\n",
        "  y_train, y_test = labels.iloc[train_index], labels.iloc[test_index]\n",
        "  boost_mod.fit(X_train, y_train)    # fit on train\n",
        "  y_pred = boost_mod.predict(X_test)  # predict on test\n",
        "  error.append(metrics.accuracy_score(y_test, y_pred))   # model accuracy\n",
        "print(sum(error)/len(error))  # average accuracy"
      ],
      "execution_count": 0,
      "outputs": [
        {
          "output_type": "stream",
          "text": [
            "0.9942857142857143\n"
          ],
          "name": "stdout"
        }
      ]
    },
    {
      "cell_type": "markdown",
      "metadata": {
        "id": "TGt92d7HMu3m",
        "colab_type": "text"
      },
      "source": [
        "Incredible! Boosting (with a lot of tuning) was able to beat random forest by a small margin.\n",
        "\n",
        "Below is a simple summary of the best reult for each type of model."
      ]
    },
    {
      "cell_type": "code",
      "metadata": {
        "id": "Xv3v6J9gAZz0",
        "colab_type": "code",
        "outputId": "1eb91fca-5aa4-445c-b15f-e630d107ac9c",
        "colab": {
          "base_uri": "https://localhost:8080/",
          "height": 119
        }
      },
      "source": [
        "# Results Summary\n",
        "print(\"Model:\\t\\t\\t\", \"Accuracy:\")\n",
        "print(\"Naive Bayes\\t\\t\\t96.8%\")\n",
        "print(\"Random Forest\\t\\t\\t98.8%\")\n",
        "print(\"Boosting\\t\\t\\t92.3%\")\n",
        "print(\"Boosting, var selection\\t\\t98.4%\")\n",
        "print(\"Boosting, stochastic\\t\\t99.4%\")"
      ],
      "execution_count": 0,
      "outputs": [
        {
          "output_type": "stream",
          "text": [
            "Model:\t\t\t Accuracy:\n",
            "Naive Bayes\t\t\t96.8%\n",
            "Random Forest\t\t\t98.8%\n",
            "Boosting\t\t\t92.3%\n",
            "Boosting, var selection\t\t98.4%\n",
            "Boosting, stochastic\t\t99.4%\n"
          ],
          "name": "stdout"
        }
      ]
    },
    {
      "cell_type": "markdown",
      "metadata": {
        "id": "geokk2wdqY4-",
        "colab_type": "text"
      },
      "source": [
        "## Conclusion\n",
        "From a biological standpoint, the most useful part of this study is the variable importance: finding out which genes are most important in which types of cancer. Even then, it would have been more useful to compare cancerous cells of one type to non-cancerous cells of the same type. As it stands, it is unclear whether important genes are unique to the cancer type, or simply to the cell type (eg. genes unique to the brain vs genes unique to the liver). But that was not the goal of this model: oncogene identification is another thing entirely. \n",
        "\n",
        "From a data science standpoint, These models did unexpectedly well for relatively low sample size and high dimensionality, with a large number of classes. Random Forest performed incredibly well with almost no tuning. Boosting took and incredible ammount of tuning to outperform RF, but eventually did beat RF by a bit. Interestigly, feature selection ended up not being used in the final model. \n",
        "\n"
      ]
    }
  ]
}